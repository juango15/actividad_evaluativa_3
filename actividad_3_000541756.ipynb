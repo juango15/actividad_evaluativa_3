{
  "nbformat": 4,
  "nbformat_minor": 0,
  "metadata": {
    "colab": {
      "provenance": [],
      "authorship_tag": "ABX9TyOwJSye+8i2tfNYvOu7nJbc",
      "include_colab_link": true
    },
    "kernelspec": {
      "name": "python3",
      "display_name": "Python 3"
    },
    "language_info": {
      "name": "python"
    }
  },
  "cells": [
    {
      "cell_type": "markdown",
      "metadata": {
        "id": "view-in-github",
        "colab_type": "text"
      },
      "source": [
        "<a href=\"https://colab.research.google.com/github/juango15/actividad_evaluativa_3/blob/main/actividad_3_000541756.ipynb\" target=\"_parent\"><img src=\"https://colab.research.google.com/assets/colab-badge.svg\" alt=\"Open In Colab\"/></a>"
      ]
    },
    {
      "cell_type": "markdown",
      "source": [
        "# actividad evaluativa 3\n",
        "- 22/03/2024\n",
        "- Juan Pablo Gonzalez Cedeño\n",
        "- correo electrónico institucional."
      ],
      "metadata": {
        "id": "4bYnFglVZvPJ"
      }
    },
    {
      "cell_type": "markdown",
      "source": [
        "## Analisis:\n",
        "\n",
        "en el caso se puede apreciar que para filtrar una serie de señales se debe utiliza la campana de Gauss como medida de problabilidad, para esto se halla la probabilidad acomulada de la señal con respecto a la función de densidad de probabilidad (fdp) y si esta llega a mas del 30%, la señal sera admitida, de lo contrario se bloqueara\n",
        "\n",
        "La fbp es determinada por la siguiente funcion 𝑓(𝑥) = (1/(𝜎*√(2*𝜋)))*𝑒^((−1/2)*((𝑥−𝜇)/𝜎^2) dentro de esta hay dos símbolos, my y Sigma. Estas son las variables que representan la media y la desviación estándar respectivamente, así que tendrían un valor especificado dentro del algoritmo\n",
        "(En el modelo se les da el valor de 1000 Hz para la media y 300 hz para la desviación estándar)\n",
        "\n",
        "en pocas palabras, la funcion debe hacer un recorrido desde los 0 Hz hasta la frecuencia de la señal\n",
        "\n",
        "teniendo esto en cuenta podemos sacar algunas variables para el algoritmo, los cuales serian\n",
        "\n",
        "- 𝜇 (my) = media\n",
        "\n",
        "- 𝜎 (sigma) = desbiacion estandar\n",
        "\n",
        "- prob acumulada\n",
        "\n",
        "- frecuencia = frecuencia de la señal a analizar\n",
        "\n",
        "Ademas de eso tambien hay un par de simbolos y ecuaciones que seria conveniente espesificar, como puede ser e (euler), √(2*𝜋), 𝑥−𝜇 etc. asi que a cada una le asignamos una letra para facilitar el calculo:\n",
        "\n",
        "- a = √(2*𝜋)\n",
        "\n",
        "- b = 𝜎*a\n",
        "\n",
        "- c = 1/b\n",
        "\n",
        "- d = 𝜎^2\n",
        "\n",
        "- e = e\n",
        "\n",
        "- f = 𝑥−𝜇\n",
        "\n",
        "- g = f/d\n",
        "\n",
        "dejando la ecuacion de esta forma: f(x) = c*e^g\n",
        "\n",
        "entonces, para allar el la probabilidad acomulada se debe intercambiar x por el valor de 0 e ir sumandole 1 hasta que llege al valor f, luego sumar todos los resultados y verifivar si es mayor al 30%\n",
        "\n",
        "seudocodigo\n",
        "\n",
        "```\n",
        "Program filtro_de_señal\n",
        "// filtra el acceso de señales no deseadas por medio de funcion probabilidad de la campana de Gaus\n",
        "\n",
        "Start\n",
        "\n",
        "\tDeclare Float fre, prob_ac, a, b, c, d, f, x, fdp\n",
        "\n",
        "\tConstant Float my = 1000\n",
        "\tConstant Float sig = 300\n",
        "\tConstant Float pi = 3.14\n",
        "\tConstant Float e = 2,71\n",
        "\n",
        "\tSet x = 0\n",
        "\tSet prob_ac = 0\n",
        "\n",
        "\tSet a = SQRT(2*pi)\n",
        "\tSet b = sig*a\n",
        "\tSet c = 1/b\n",
        "\tSet d = sig^2\n",
        "\n",
        "\tDisplay \"Introdusca la frecuencia de la señal en Hz:\"\n",
        "\tInput fre\n",
        "\n",
        "\twhile x != fre:\n",
        "\n",
        "\t\tSet f = (x-my)/d\n",
        "\t\tSet fdp = c*e^f\n",
        "\t\tSet prob_ac += fdp\n",
        "\t\tSet x += 1\n",
        "\n",
        "\tIf prob_ac > 0.3:\n",
        "\n",
        "\t\tDisplay \"la señal es resibida\"\n",
        "\n",
        "\telse:\n",
        "\t\tDisplay \"la señal es bloqueada\"\n",
        "\n",
        "\n",
        "\n",
        "End\n",
        "\n",
        "\n",
        "```"
      ],
      "metadata": {
        "id": "ClLMOvapbMVK"
      }
    },
    {
      "cell_type": "markdown",
      "source": [
        "## prueva"
      ],
      "metadata": {
        "id": "3O-YHT_Lblua"
      }
    },
    {
      "cell_type": "code",
      "source": [
        "import math\n",
        "\n",
        "my = 1000\n",
        "sig = 300\n",
        "\n",
        "x = 0\n",
        "prob_ac = 0\n",
        "\n",
        "a = math.sqrt(2 * math.pi)\n",
        "b = sig * a\n",
        "c = 1/b\n",
        "d = sig^2\n",
        "\n",
        "fre = 1500\n",
        "\n",
        "while x != fre:\n",
        "  e = (x-my)/d\n",
        "  fdp = c*math.exp(e)\n",
        "  prob_ac += fdp\n",
        "  x += 1\n",
        "\n",
        "if prob_ac > 0.3:\n",
        "\n",
        "  print (\"la señal es resibida\")\n",
        "else:\n",
        "  print (\"la señal es bloqueada\")\n",
        "\n"
      ],
      "metadata": {
        "colab": {
          "base_uri": "https://localhost:8080/"
        },
        "id": "-rD5IfYxaITm",
        "outputId": "7d1e6ba5-3b5e-460f-b938-bb4b983fce91"
      },
      "execution_count": 30,
      "outputs": [
        {
          "output_type": "stream",
          "name": "stdout",
          "text": [
            "la señal es resibida\n"
          ]
        }
      ]
    },
    {
      "cell_type": "markdown",
      "source": [
        "### deja de ser bloqueada a los 927 Hz"
      ],
      "metadata": {
        "id": "Ge84PnFjeJoY"
      }
    },
    {
      "cell_type": "code",
      "source": [
        "import math\n",
        "\n",
        "my = 1000\n",
        "sig = 300\n",
        "\n",
        "x = 0\n",
        "prob_ac = 0\n",
        "\n",
        "a = math.sqrt(2 * math.pi)\n",
        "b = sig * a\n",
        "c = 1/b\n",
        "d = sig^2\n",
        "\n",
        "fre = 927\n",
        "\n",
        "while x != fre:\n",
        "  e = (x-my)/d\n",
        "  fdp = c*math.exp(e)\n",
        "  prob_ac += fdp\n",
        "  x += 1\n",
        "\n",
        "if prob_ac > 0.3:\n",
        "\n",
        "  print (\"la señal es resibida\")\n",
        "else:\n",
        "  print (\"la señal es bloqueada\")"
      ],
      "metadata": {
        "colab": {
          "base_uri": "https://localhost:8080/"
        },
        "id": "0nyz4zZZeIFF",
        "outputId": "9e7e5f39-a5d1-4a7a-8cc6-92c52d2ea466"
      },
      "execution_count": 37,
      "outputs": [
        {
          "output_type": "stream",
          "name": "stdout",
          "text": [
            "la señal es resibida\n"
          ]
        }
      ]
    },
    {
      "cell_type": "markdown",
      "source": [
        "## codigo completo"
      ],
      "metadata": {
        "id": "V7DJkYjTbylK"
      }
    },
    {
      "cell_type": "code",
      "source": [
        "import math\n",
        "\n",
        "my = 1000\n",
        "sig = 300\n",
        "\n",
        "x = 0\n",
        "prob_ac = 0\n",
        "\n",
        "a = math.sqrt(2 * math.pi)\n",
        "b = sig * a\n",
        "c = 1/b\n",
        "d = sig^2\n",
        "\n",
        "fre = int (input (\"ingrese la frecuencia en Hz:\"))\n",
        "\n",
        "while x != fre:\n",
        "  e = (x-my)/d\n",
        "  fdp = c*math.exp(e)\n",
        "  prob_ac += fdp\n",
        "  x += 1\n",
        "\n",
        "if prob_ac > 0.3:\n",
        "\n",
        "  print (\"la señal es resibida\")\n",
        "else:\n",
        "  print (\"la señal es bloqueada\")\n",
        "\n"
      ],
      "metadata": {
        "colab": {
          "base_uri": "https://localhost:8080/"
        },
        "id": "_ZDN1O85SIVT",
        "outputId": "a4dc4703-9d3c-4303-d6de-707590be2667"
      },
      "execution_count": 36,
      "outputs": [
        {
          "output_type": "stream",
          "name": "stdout",
          "text": [
            "ingrese la frecuencia en Hz:927\n",
            "la señal es resibida\n"
          ]
        }
      ]
    }
  ]
}